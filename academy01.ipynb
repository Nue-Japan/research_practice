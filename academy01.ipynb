{
 "cells": [
  {
   "cell_type": "markdown",
   "id": "cddd84ad",
   "metadata": {},
   "source": [
    "pythonの基本\n",
    "\n",
    "pythonとは高水準で、動的型付けを行うマルチパラダイムプログラミング言語"
   ]
  },
  {
   "cell_type": "code",
   "execution_count": 1,
   "id": "c81d4a80",
   "metadata": {},
   "outputs": [
    {
     "name": "stdout",
     "output_type": "stream",
     "text": [
      "[1, 1, 2, 3, 6, 8, 10]\n"
     ]
    }
   ],
   "source": [
    "# exe quicksort\n",
    "def quicksort(arr):\n",
    "    if len(arr) <= 1:\n",
    "        return arr\n",
    "    pivot = arr[len(arr) // 2]\n",
    "    left = [x for x in arr if x < pivot]\n",
    "    middle = [x for x in arr if x == pivot]\n",
    "    right = [x for x in arr if x > pivot]\n",
    "    return quicksort(left) + middle + quicksort(right)\n",
    "\n",
    "print(quicksort([3,6,8,10,1,2,1]))"
   ]
  },
  {
   "cell_type": "markdown",
   "id": "d632b563",
   "metadata": {},
   "source": [
    "## python Version 3.12.3\n",
    "\n",
    "- pythonのバージョン確認 : ```python --version```\n",
    "\n",
    "- python インクリメントやデクリメント演算子は対応していない。\n",
    "\n",
    "- python 基本データ型\n",
    "- int # 整数\n",
    "- float # 浮動小数点数\n",
    "- str # 文字列\n",
    "- bool # 真偽値 &&, || (記号)ではなく and, or （英単語）を使用\n",
    "- list # リスト\n",
    "- tuple # タプル\n",
    "- set # セット\n",
    "- dict # 辞書 \n",
    "\n",
    "print(t and f) # False 論理AND\n",
    "\n",
    "print(t or f)  # True　論理OR\n",
    "\n",
    "print (not t)    # False　論理NOT\n",
    "\n",
    "print (t != f) # True　論理XOR"
   ]
  },
  {
   "cell_type": "code",
   "execution_count": 2,
   "id": "1e3a2d58",
   "metadata": {},
   "outputs": [
    {
     "name": "stdout",
     "output_type": "stream",
     "text": [
      "<class 'int'>\n"
     ]
    }
   ],
   "source": [
    "# このように型を確認できる\n",
    "print(type(123)) # <class 'int'>"
   ]
  }
 ],
 "metadata": {
  "kernelspec": {
   "display_name": ".venv (3.12.3)",
   "language": "python",
   "name": "python3"
  },
  "language_info": {
   "codemirror_mode": {
    "name": "ipython",
    "version": 3
   },
   "file_extension": ".py",
   "mimetype": "text/x-python",
   "name": "python",
   "nbconvert_exporter": "python",
   "pygments_lexer": "ipython3",
   "version": "3.12.3"
  }
 },
 "nbformat": 4,
 "nbformat_minor": 5
}
